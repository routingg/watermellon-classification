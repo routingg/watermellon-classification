{
  "nbformat": 4,
  "nbformat_minor": 0,
  "metadata": {
    "colab": {
      "provenance": [],
      "authorship_tag": "ABX9TyOlwlUQdWif7huwR/SP36Oe",
      "include_colab_link": true
    },
    "kernelspec": {
      "name": "python3",
      "display_name": "Python 3"
    },
    "language_info": {
      "name": "python"
    }
  },
  "cells": [
    {
      "cell_type": "markdown",
      "metadata": {
        "id": "view-in-github",
        "colab_type": "text"
      },
      "source": [
        "<a href=\"https://colab.research.google.com/github/vocaltrainer/rippen_watermellon_classification/blob/main/classify_subak_nosubak(softmax).ipynb\" target=\"_parent\"><img src=\"https://colab.research.google.com/assets/colab-badge.svg\" alt=\"Open In Colab\"/></a>"
      ]
    },
    {
      "cell_type": "code",
      "source": [
        "from google.colab import drive\n",
        "drive.mount('/content/drive')"
      ],
      "metadata": {
        "colab": {
          "base_uri": "https://localhost:8080/"
        },
        "id": "CCIVkbamL3Ts",
        "outputId": "a5c2e013-a3ab-4b76-b452-80c38a415ff3"
      },
      "execution_count": null,
      "outputs": [
        {
          "output_type": "stream",
          "name": "stdout",
          "text": [
            "Mounted at /content/drive\n"
          ]
        }
      ]
    },
    {
      "cell_type": "code",
      "source": [
        "!pip install librosa==0.9.1"
      ],
      "metadata": {
        "colab": {
          "base_uri": "https://localhost:8080/"
        },
        "id": "i4PyLPUwMtuI",
        "outputId": "af864b99-431b-4e87-9ead-399242e476db"
      },
      "execution_count": null,
      "outputs": [
        {
          "output_type": "stream",
          "name": "stdout",
          "text": [
            "Looking in indexes: https://pypi.org/simple, https://us-python.pkg.dev/colab-wheels/public/simple/\n",
            "Collecting librosa==0.9.1\n",
            "  Downloading librosa-0.9.1-py3-none-any.whl (213 kB)\n",
            "\u001b[2K     \u001b[90m━━━━━━━━━━━━━━━━━━━━━━━━━━━━━━━━━━━━━━━\u001b[0m \u001b[32m213.1/213.1 kB\u001b[0m \u001b[31m5.1 MB/s\u001b[0m eta \u001b[36m0:00:00\u001b[0m\n",
            "\u001b[?25hRequirement already satisfied: audioread>=2.1.5 in /usr/local/lib/python3.10/dist-packages (from librosa==0.9.1) (3.0.0)\n",
            "Requirement already satisfied: numpy>=1.17.0 in /usr/local/lib/python3.10/dist-packages (from librosa==0.9.1) (1.22.4)\n",
            "Requirement already satisfied: scipy>=1.2.0 in /usr/local/lib/python3.10/dist-packages (from librosa==0.9.1) (1.10.1)\n",
            "Requirement already satisfied: scikit-learn>=0.19.1 in /usr/local/lib/python3.10/dist-packages (from librosa==0.9.1) (1.2.2)\n",
            "Requirement already satisfied: joblib>=0.14 in /usr/local/lib/python3.10/dist-packages (from librosa==0.9.1) (1.2.0)\n",
            "Requirement already satisfied: decorator>=4.0.10 in /usr/local/lib/python3.10/dist-packages (from librosa==0.9.1) (4.4.2)\n",
            "Collecting resampy>=0.2.2 (from librosa==0.9.1)\n",
            "  Downloading resampy-0.4.2-py3-none-any.whl (3.1 MB)\n",
            "\u001b[2K     \u001b[90m━━━━━━━━━━━━━━━━━━━━━━━━━━━━━━━━━━━━━━━━\u001b[0m \u001b[32m3.1/3.1 MB\u001b[0m \u001b[31m41.0 MB/s\u001b[0m eta \u001b[36m0:00:00\u001b[0m\n",
            "\u001b[?25hRequirement already satisfied: numba>=0.45.1 in /usr/local/lib/python3.10/dist-packages (from librosa==0.9.1) (0.56.4)\n",
            "Requirement already satisfied: soundfile>=0.10.2 in /usr/local/lib/python3.10/dist-packages (from librosa==0.9.1) (0.12.1)\n",
            "Requirement already satisfied: pooch>=1.0 in /usr/local/lib/python3.10/dist-packages (from librosa==0.9.1) (1.6.0)\n",
            "Requirement already satisfied: packaging>=20.0 in /usr/local/lib/python3.10/dist-packages (from librosa==0.9.1) (23.1)\n",
            "Requirement already satisfied: llvmlite<0.40,>=0.39.0dev0 in /usr/local/lib/python3.10/dist-packages (from numba>=0.45.1->librosa==0.9.1) (0.39.1)\n",
            "Requirement already satisfied: setuptools in /usr/local/lib/python3.10/dist-packages (from numba>=0.45.1->librosa==0.9.1) (67.7.2)\n",
            "Requirement already satisfied: appdirs>=1.3.0 in /usr/local/lib/python3.10/dist-packages (from pooch>=1.0->librosa==0.9.1) (1.4.4)\n",
            "Requirement already satisfied: requests>=2.19.0 in /usr/local/lib/python3.10/dist-packages (from pooch>=1.0->librosa==0.9.1) (2.27.1)\n",
            "Requirement already satisfied: threadpoolctl>=2.0.0 in /usr/local/lib/python3.10/dist-packages (from scikit-learn>=0.19.1->librosa==0.9.1) (3.1.0)\n",
            "Requirement already satisfied: cffi>=1.0 in /usr/local/lib/python3.10/dist-packages (from soundfile>=0.10.2->librosa==0.9.1) (1.15.1)\n",
            "Requirement already satisfied: pycparser in /usr/local/lib/python3.10/dist-packages (from cffi>=1.0->soundfile>=0.10.2->librosa==0.9.1) (2.21)\n",
            "Requirement already satisfied: urllib3<1.27,>=1.21.1 in /usr/local/lib/python3.10/dist-packages (from requests>=2.19.0->pooch>=1.0->librosa==0.9.1) (1.26.15)\n",
            "Requirement already satisfied: certifi>=2017.4.17 in /usr/local/lib/python3.10/dist-packages (from requests>=2.19.0->pooch>=1.0->librosa==0.9.1) (2022.12.7)\n",
            "Requirement already satisfied: charset-normalizer~=2.0.0 in /usr/local/lib/python3.10/dist-packages (from requests>=2.19.0->pooch>=1.0->librosa==0.9.1) (2.0.12)\n",
            "Requirement already satisfied: idna<4,>=2.5 in /usr/local/lib/python3.10/dist-packages (from requests>=2.19.0->pooch>=1.0->librosa==0.9.1) (3.4)\n",
            "Installing collected packages: resampy, librosa\n",
            "  Attempting uninstall: librosa\n",
            "    Found existing installation: librosa 0.10.0.post2\n",
            "    Uninstalling librosa-0.10.0.post2:\n",
            "      Successfully uninstalled librosa-0.10.0.post2\n",
            "Successfully installed librosa-0.9.1 resampy-0.4.2\n"
          ]
        }
      ]
    },
    {
      "cell_type": "code",
      "execution_count": null,
      "metadata": {
        "colab": {
          "base_uri": "https://localhost:8080/"
        },
        "id": "OCoPRw6eJvTt",
        "outputId": "7938dd6e-d74a-43bf-bdbf-9d48cf44b4c9"
      },
      "outputs": [
        {
          "output_type": "stream",
          "name": "stderr",
          "text": [
            "<ipython-input-3-f4c9aeb8a333>:23: FutureWarning: Pass y=[0.         0.         0.         ... 0.00256348 0.01278687 0.01522827] as keyword args. From version 0.10 passing these as positional arguments will result in an error\n",
            "  spectrogram = librosa.feature.melspectrogram(segment, sr=sample_rate)\n"
          ]
        },
        {
          "output_type": "stream",
          "name": "stdout",
          "text": [
            "1/1 [==============================] - 0s 400ms/step\n",
            "1/1 [==============================] - 0s 49ms/step\n"
          ]
        },
        {
          "output_type": "stream",
          "name": "stderr",
          "text": [
            "<ipython-input-3-f4c9aeb8a333>:23: FutureWarning: Pass y=[0.01715088 0.01412964 0.01950073 ... 0.12539673 0.1375122  0.13049316] as keyword args. From version 0.10 passing these as positional arguments will result in an error\n",
            "  spectrogram = librosa.feature.melspectrogram(segment, sr=sample_rate)\n",
            "<ipython-input-3-f4c9aeb8a333>:23: FutureWarning: Pass y=[0.12411499 0.11151123 0.12060547 ... 0.01229858 0.00436401 0.00241089] as keyword args. From version 0.10 passing these as positional arguments will result in an error\n",
            "  spectrogram = librosa.feature.melspectrogram(segment, sr=sample_rate)\n"
          ]
        },
        {
          "output_type": "stream",
          "name": "stdout",
          "text": [
            "1/1 [==============================] - 0s 52ms/step\n",
            "1/1 [==============================] - 0s 52ms/step\n"
          ]
        },
        {
          "output_type": "stream",
          "name": "stderr",
          "text": [
            "<ipython-input-3-f4c9aeb8a333>:23: FutureWarning: Pass y=[-0.00595093 -0.00534058 -0.00674438 ... -0.01071167 -0.00891113\n",
            " -0.02304077] as keyword args. From version 0.10 passing these as positional arguments will result in an error\n",
            "  spectrogram = librosa.feature.melspectrogram(segment, sr=sample_rate)\n",
            "<ipython-input-3-f4c9aeb8a333>:23: FutureWarning: Pass y=[-0.01449585 -0.02166748 -0.0307312  ...  0.06723022  0.07165527\n",
            "  0.05990601] as keyword args. From version 0.10 passing these as positional arguments will result in an error\n",
            "  spectrogram = librosa.feature.melspectrogram(segment, sr=sample_rate)\n"
          ]
        },
        {
          "output_type": "stream",
          "name": "stdout",
          "text": [
            "1/1 [==============================] - 0s 53ms/step\n",
            "1/1 [==============================] - 0s 46ms/step\n",
            "이 수박은 박수박 입니다.\n"
          ]
        },
        {
          "output_type": "stream",
          "name": "stderr",
          "text": [
            "<ipython-input-3-f4c9aeb8a333>:23: FutureWarning: Pass y=[0.05007935 0.04605103 0.04040527 ... 0.04269409 0.03768921 0.04568481] as keyword args. From version 0.10 passing these as positional arguments will result in an error\n",
            "  spectrogram = librosa.feature.melspectrogram(segment, sr=sample_rate)\n"
          ]
        }
      ],
      "source": [
        "import numpy as np\n",
        "import librosa\n",
        "from tensorflow.keras.models import load_model\n",
        "\n",
        "# 모델 파일 로드\n",
        "model = load_model('/content/drive/MyDrive/Audio_clf_project/model/SUBAK2_softmax')\n",
        "\n",
        "# 음성 파일 경로\n",
        "audio_file = \"/content/drive/MyDrive/Audio_clf_project/test_vocal/노수박test_시장.wav\"      ################음원파일 추가########################\n",
        "\n",
        "# 음성 파일 로드\n",
        "audio, _ = librosa.load(audio_file, sr=None, mono=True)\n",
        "\n",
        "# 1초 길이로 음성 데이터 자르기\n",
        "duration = 1  # 1초\n",
        "sample_rate = 44100\n",
        "samples_per_segment = int(duration * sample_rate)\n",
        "num_segments = len(audio) // samples_per_segment\n",
        "\n",
        "predictions = []\n",
        "for i in range(num_segments):\n",
        "    segment = audio[i * samples_per_segment: (i + 1) * samples_per_segment]\n",
        "    spectrogram = librosa.feature.melspectrogram(segment, sr=sample_rate)\n",
        "    spectrogram = librosa.power_to_db(spectrogram, ref=np.max)\n",
        "    input_data = spectrogram.reshape(1, spectrogram.shape[0], spectrogram.shape[1], 1)\n",
        "\n",
        "    prediction = model.predict(input_data)\n",
        "    class_index = np.argmax(prediction)\n",
        "    predictions.append(class_index)\n",
        "\n",
        "# 가장 많이 등장하는 클래스 선택\n",
        "final_result = \"잘 익은 수박\" if predictions.count(0) > predictions.count(1) else \"박수박\"\n",
        "\n",
        "print(\"이 수박은\", final_result, \"입니다.\")\n"
      ]
    }
  ]
}